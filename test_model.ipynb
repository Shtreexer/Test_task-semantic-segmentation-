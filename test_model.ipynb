{
 "cells": [
  {
   "cell_type": "code",
   "execution_count": null,
   "metadata": {},
   "outputs": [],
   "source": [
    "from keras.models import load_model\n",
    "import glob\n",
    "import cv2\n",
    "import numpy as np\n",
    "\n",
    "\n",
    "import matplotlib.pyplot as plt\n",
    "from tensorflow.keras.metrics import MeanIoU"
   ]
  },
  {
   "cell_type": "code",
   "execution_count": 3,
   "metadata": {},
   "outputs": [],
   "source": [
    "model = load_model('/Model_list/unet_2e.keras', compile = False)"
   ]
  },
  {
   "cell_type": "code",
   "execution_count": 4,
   "metadata": {},
   "outputs": [],
   "source": [
    "img_list = glob.glob('/Work_data/Image/*')\n",
    "mask_list = glob.glob('/Work_data/Mask/*')\n",
    "\n",
    "img_list.sort()\n",
    "mask_list.sort()\n",
    "\n",
    "img_list = img_list[5000:5050]\n",
    "mask_list = mask_list[5000:5050]"
   ]
  },
  {
   "cell_type": "code",
   "execution_count": 5,
   "metadata": {},
   "outputs": [],
   "source": [
    "images_data = []\n",
    "for name in img_list:\n",
    "    images_data.append(cv2.imread(name, 0))\n",
    "\n",
    "images_data = np.array(images_data)\n",
    "images_data = np.expand_dims(images_data, axis = 3)\n",
    "\n",
    "\n",
    "mask_data = []\n",
    "for name in mask_list:\n",
    "    mask_data.append(cv2.imread(name, 0))\n",
    "\n",
    "mask_data = np.array(mask_data)\n",
    "mask_data = np.expand_dims(mask_data, axis = 3)\n",
    "\n",
    "images_data = images_data/ 225\n",
    "mask_data = mask_data / 255\n"
   ]
  },
  {
   "cell_type": "code",
   "execution_count": null,
   "metadata": {},
   "outputs": [],
   "source": [
    "test = model.predict(images_data)"
   ]
  },
  {
   "cell_type": "code",
   "execution_count": 7,
   "metadata": {},
   "outputs": [],
   "source": [
    "test_threshold = test > 0.5"
   ]
  },
  {
   "cell_type": "code",
   "execution_count": 8,
   "metadata": {},
   "outputs": [
    {
     "name": "stdout",
     "output_type": "stream",
     "text": [
      "IOU 1.0\n"
     ]
    }
   ],
   "source": [
    "classes = 2\n",
    "IOU = MeanIoU(num_classes = classes)\n",
    "IOU.update_state(test_threshold, test)\n",
    "\n",
    "print(\"IOU\", IOU.result().numpy())"
   ]
  },
  {
   "cell_type": "code",
   "execution_count": null,
   "metadata": {},
   "outputs": [],
   "source": []
  }
 ],
 "metadata": {
  "kernelspec": {
   "display_name": "ACT",
   "language": "python",
   "name": "python3"
  },
  "language_info": {
   "codemirror_mode": {
    "name": "ipython",
    "version": 3
   },
   "file_extension": ".py",
   "mimetype": "text/x-python",
   "name": "python",
   "nbconvert_exporter": "python",
   "pygments_lexer": "ipython3",
   "version": "3.9.16"
  }
 },
 "nbformat": 4,
 "nbformat_minor": 2
}

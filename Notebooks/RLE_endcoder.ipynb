{
 "cells": [
  {
   "cell_type": "code",
   "execution_count": null,
   "metadata": {},
   "outputs": [],
   "source": [
    "import pandas as pd\n",
    "import numpy as np\n",
    "import cv2\n",
    "\n",
    "import matplotlib.pyplot as plt"
   ]
  },
  {
   "cell_type": "code",
   "execution_count": null,
   "metadata": {},
   "outputs": [],
   "source": [
    "train_mask = pd.read_csv('Data/train_ship_segmentations_v2.csv')\n",
    "train_mask.EncodedPixels = train_mask.EncodedPixels.fillna(0)\n",
    "train_mask['mask_img'] = [np.zeros((768*768, 1), dtype=int) for _ in train_mask.index]\n",
    "\n",
    "\n",
    "\n",
    "for i in range(len(train_mask)):\n",
    "    if train_mask.EncodedPixels[i] != 0:\n",
    "        pxl, pxl_2 = [],[]\n",
    "        \n",
    "        train_mask.EncodedPixels[i] = list(map(int, train_mask.EncodedPixels[i].split(\" \")))\n",
    "\n",
    "\n",
    "        for j in range(0,len(train_mask.EncodedPixels[i])):\n",
    "            if j%2 == 0: pxl.append(train_mask.EncodedPixels[i][j])\n",
    "            else: pxl_2.append(train_mask.EncodedPixels[i][j])\n",
    "        \n",
    "        train_mask.EncodedPixels[i] = [list(range(pxl[i], pxl[i] + pxl_2[i])) for i in range(0, len(pxl))]\n",
    "        train_mask.EncodedPixels[i] = sum(train_mask.EncodedPixels[i], [])\n",
    "\n",
    "\n",
    "for i in range(len(train_mask.EncodedPixels)):\n",
    "    if train_mask.EncodedPixels[i] != 0: \n",
    "        mask_pxl = train_mask.EncodedPixels[i]\n",
    "        for j in range(len(mask_pxl)):\n",
    "            if mask_pxl[j] == 589824:\n",
    "                mask_pxl.pop()\n",
    "        train_mask.mask_img[i][mask_pxl,] = 255\n",
    "\n",
    "train_mask"
   ]
  },
  {
   "cell_type": "code",
   "execution_count": null,
   "metadata": {},
   "outputs": [],
   "source": [
    "train_data = train_mask.iloc[0:10000,[0,2]]\n",
    "train_data['image'] = [np.zeros((768*768, 1), dtype=int) for _ in train_data.index]\n",
    "\n",
    "for img in range(len(train_data)):\n",
    "    train_data.image[img] = cv2.imread('/Data/train_v2/' + train_data.ImageId[img] , cv2.IMREAD_COLOR)\n",
    "\n",
    "train_data.image = train_data.image\n",
    "train_data"
   ]
  },
  {
   "cell_type": "code",
   "execution_count": null,
   "metadata": {},
   "outputs": [],
   "source": [
    "for i in range(len(train_data)):\n",
    "    data = train_data.mask_img[i]\n",
    "    data = data.reshape(768,768,1)\n",
    "    data = np.rot90(data,1,axes=(1,0))\n",
    "    data = np.fliplr(data)\n",
    "    cv2.imwrite('/Work_data/Mask/'+ str(train_data.ImageId[i]), data, params=None)\n"
   ]
  },
  {
   "cell_type": "code",
   "execution_count": null,
   "metadata": {},
   "outputs": [],
   "source": [
    "for i in range(len(train_data)):\n",
    "    data = train_data.image[i]\n",
    "    cv2.imwrite('/Work_data/Image/'+ str(train_data.ImageId[i]), data)"
   ]
  }
 ],
 "metadata": {
  "kernelspec": {
   "display_name": "ACT",
   "language": "python",
   "name": "python3"
  },
  "language_info": {
   "codemirror_mode": {
    "name": "ipython",
    "version": 3
   },
   "file_extension": ".py",
   "mimetype": "text/x-python",
   "name": "python",
   "nbconvert_exporter": "python",
   "pygments_lexer": "ipython3",
   "version": "3.9.16"
  }
 },
 "nbformat": 4,
 "nbformat_minor": 2
}

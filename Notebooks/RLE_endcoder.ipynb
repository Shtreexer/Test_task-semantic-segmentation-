{
 "cells": [
  {
   "cell_type": "code",
   "execution_count": 2,
   "metadata": {},
   "outputs": [
    {
     "name": "stderr",
     "output_type": "stream",
     "text": [
      "2023-12-02 12:08:59.058345: I tensorflow/core/platform/cpu_feature_guard.cc:182] This TensorFlow binary is optimized to use available CPU instructions in performance-critical operations.\n",
      "To enable the following instructions: AVX2 FMA, in other operations, rebuild TensorFlow with the appropriate compiler flags.\n"
     ]
    }
   ],
   "source": [
    "import tensorflow as tf\n",
    "import pandas as pd\n",
    "import numpy as np\n",
    "\n",
    "import matplotlib.pyplot as plt\n",
    "import cv2"
   ]
  },
  {
   "cell_type": "code",
   "execution_count": null,
   "metadata": {},
   "outputs": [],
   "source": [
    "train_mask = pd.read_csv('Data/train_ship_segmentations_v2.csv')\n",
    "train_mask.EncodedPixels = train_mask.EncodedPixels.fillna(0)\n",
    "train_mask['mask_img'] = [np.zeros((768*768, 1), dtype=int) for _ in train_mask.index]\n",
    "\n",
    "\n",
    "\n",
    "for i in range(len(train_mask)):\n",
    "    if train_mask.EncodedPixels[i] != 0:\n",
    "        pxl, pxl_2 = [],[]\n",
    "        \n",
    "        train_mask.EncodedPixels[i] = list(map(int, train_mask.EncodedPixels[i].split(\" \")))\n",
    "\n",
    "\n",
    "        for j in range(0,len(train_mask.EncodedPixels[i])):\n",
    "            if j%2 == 0: pxl.append(train_mask.EncodedPixels[i][j])\n",
    "            else: pxl_2.append(train_mask.EncodedPixels[i][j])\n",
    "        \n",
    "        train_mask.EncodedPixels[i] = [list(range(pxl[i], pxl[i] + pxl_2[i])) for i in range(0, len(pxl))]\n",
    "        train_mask.EncodedPixels[i] = sum(train_mask.EncodedPixels[i], [])\n",
    "\n",
    "\n",
    "\n",
    "\n",
    "train_mask"
   ]
  },
  {
   "cell_type": "code",
   "execution_count": 26,
   "metadata": {},
   "outputs": [],
   "source": [
    "for i in range(len(train_mask.EncodedPixels)):\n",
    "    if train_mask.EncodedPixels[i] != 0: \n",
    "        mask_pxl = train_mask.EncodedPixels[i]\n",
    "        for j in range(len(mask_pxl)):\n",
    "            if mask_pxl[j] == 589824:\n",
    "                mask_pxl.pop()\n",
    "        train_mask.mask_img[i][mask_pxl,] = 255\n",
    "        \n",
    "\n"
   ]
  }
 ],
 "metadata": {
  "kernelspec": {
   "display_name": "ACT",
   "language": "python",
   "name": "python3"
  },
  "language_info": {
   "codemirror_mode": {
    "name": "ipython",
    "version": 3
   },
   "file_extension": ".py",
   "mimetype": "text/x-python",
   "name": "python",
   "nbconvert_exporter": "python",
   "pygments_lexer": "ipython3",
   "version": "3.9.16"
  }
 },
 "nbformat": 4,
 "nbformat_minor": 2
}
